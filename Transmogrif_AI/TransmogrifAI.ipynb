{
 "cells": [
  {
   "cell_type": "markdown",
   "metadata": {},
   "source": [
    "# TransmogrifAI"
   ]
  },
  {
   "cell_type": "markdown",
   "metadata": {},
   "source": [
    "#### TransmogrifAI (pronounced trăns-mŏgˈrə-fī) is an AutoML library written in Scala that runs on top of Apache Spark. It was developed with a focus on accelerating machine learning developer productivity through machine learning automation, and an API that enforces compile-time type-safety, modularity, and reuse. Through automation, it achieves accuracies close to hand-tuned models with almost 100x reduction in time.\n",
    "\n",
    "TransmogrifAI is an AutoML library written in Scala that runs on top of Apache Spark. It was developed with a focus on enhancing machine learning developer productivity through machine learning automation, and an API that enforces compile-time type-safety, modularity and reuse.\n",
    "\n",
    "Use TransmogrifAI if you need a machine learning library to:\n",
    "\n",
    "Rapidly train good quality machine learnt models with minimal hand tuning\n",
    "Build modular, reusable, strongly typed machine learning workflows\n",
    "\n",
    "Use TransmogrifAI if you need a machine learning library to:\n",
    "\n",
    "1. Build production ready machine learning applications in hours, not months\n",
    "2. Build machine learning models without getting a Ph.D. in machine learning\n",
    "3. Build modular, reusable, strongly typed machine learning workflows"
   ]
  },
  {
   "cell_type": "code",
   "execution_count": null,
   "metadata": {},
   "outputs": [],
   "source": []
  },
  {
   "cell_type": "markdown",
   "metadata": {},
   "source": [
    "# Importing Libraries"
   ]
  },
  {
   "cell_type": "code",
   "execution_count": null,
   "metadata": {},
   "outputs": [],
   "source": [
    "import com.salesforce.op._\n",
    "import com.salesforce.op.readers._\n",
    "import com.salesforce.op.features._\n",
    "import com.salesforce.op.features.types._\n",
    "import com.salesforce.op.stages.impl.classification._\n",
    "import org.apache.spark.SparkConf\n",
    "import org.apache.spark.sql.SparkSession"
   ]
  },
  {
   "cell_type": "code",
   "execution_count": null,
   "metadata": {},
   "outputs": [],
   "source": []
  },
  {
   "cell_type": "markdown",
   "metadata": {},
   "source": [
    "# Training"
   ]
  },
  {
   "cell_type": "code",
   "execution_count": null,
   "metadata": {},
   "outputs": [],
   "source": [
    "implicit val spark = SparkSession.builder.config(new SparkConf()).getOrCreate()\n",
    "import spark.implicits._"
   ]
  },
  {
   "cell_type": "markdown",
   "metadata": {},
   "source": [
    "Predicting Titanic Survivors with TransmogrifAI\n",
    "\n",
    "The Titanic dataset is an often-cited dataset in the machine learning community. The goal is to build a machine learnt model that will predict survivors from the Titanic passenger manifest. Here is how you would build the model using TransmogrifAI:\n"
   ]
  },
  {
   "cell_type": "code",
   "execution_count": null,
   "metadata": {},
   "outputs": [],
   "source": [
    "#Read Titanic data as a DataFrame\n",
    "val passengersData = DataReaders.Simple.csvCase[Passenger](path = pathToData).readDataset().toDF()\n",
    "\n",
    "#Extract response and predictor Features\n",
    "val (survived, predictors) = FeatureBuilder.fromDataFrame[RealNN](passengersData, response = \"survived\")\n",
    "\n",
    "#Automated feature engineering\n",
    "val featureVector = predictors.transmogrify()\n",
    "\n",
    "#Automated feature validation and selection\n",
    "val checkedFeatures = survived.sanityCheck(featureVector, removeBadFeatures = true)\n",
    "\n",
    "#Automated model selection\n",
    "val pred = BinaryClassificationModelSelector().setInput(survived, checkedFeatures).getOutput()\n",
    "\n",
    "#Setting up a TransmogrifAI workflow and training the model\n",
    "val model = new OpWorkflow().setInputDataset(passengersData).setResultFeatures(pred).train()\n",
    "\n",
    "print(\"Model summary:\\n\" + model.summaryPretty())"
   ]
  },
  {
   "cell_type": "code",
   "execution_count": null,
   "metadata": {},
   "outputs": [],
   "source": []
  }
 ],
 "metadata": {
  "kernelspec": {
   "display_name": "Python 3",
   "language": "python",
   "name": "python3"
  },
  "language_info": {
   "codemirror_mode": {
    "name": "ipython",
    "version": 3
   },
   "file_extension": ".py",
   "mimetype": "text/x-python",
   "name": "python",
   "nbconvert_exporter": "python",
   "pygments_lexer": "ipython3",
   "version": "3.8.3"
  }
 },
 "nbformat": 4,
 "nbformat_minor": 4
}
