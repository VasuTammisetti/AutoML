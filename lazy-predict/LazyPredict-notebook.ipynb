{
  "nbformat": 4,
  "nbformat_minor": 0,
  "metadata": {
    "colab": {
      "name": "LazyPredict.ipynb",
      "provenance": []
    },
    "kernelspec": {
      "name": "python3",
      "display_name": "Python 3"
    }
  },
  "cells": [
    {
      "cell_type": "code",
      "metadata": {
        "colab": {
          "base_uri": "https://localhost:8080/"
        },
        "id": "IkDJlg7k-Uvk",
        "outputId": "3e66f683-1cbf-4152-d443-1b3e876611ea"
      },
      "source": [
        "!pip install lazypredict"
      ],
      "execution_count": 2,
      "outputs": [
        {
          "output_type": "stream",
          "text": [
            "Collecting lazypredict\n",
            "  Downloading https://files.pythonhosted.org/packages/5f/db/1566dca1050ea74e9474dca0f1e7bbffcb0c3e694cf92e7e6e7ef9fca3af/lazypredict-0.2.7-py2.py3-none-any.whl\n",
            "Requirement already satisfied: Click>=7.0 in /usr/local/lib/python3.6/dist-packages (from lazypredict) (7.1.2)\n",
            "Installing collected packages: lazypredict\n",
            "Successfully installed lazypredict-0.2.7\n"
          ],
          "name": "stdout"
        }
      ]
    },
    {
      "cell_type": "code",
      "metadata": {
        "colab": {
          "base_uri": "https://localhost:8080/"
        },
        "id": "M2sO02rc-YMO",
        "outputId": "c97bfb60-9bf6-4dbf-8a97-d6816d82129a"
      },
      "source": [
        "from lazypredict.Supervised import LazyRegressor"
      ],
      "execution_count": 3,
      "outputs": [
        {
          "output_type": "stream",
          "text": [
            "/usr/local/lib/python3.6/dist-packages/sklearn/utils/deprecation.py:144: FutureWarning: The sklearn.utils.testing module is  deprecated in version 0.22 and will be removed in version 0.24. The corresponding classes / functions should instead be imported from sklearn.utils. Anything that cannot be imported from sklearn.utils is now part of the private API.\n",
            "  warnings.warn(message, FutureWarning)\n"
          ],
          "name": "stderr"
        }
      ]
    },
    {
      "cell_type": "code",
      "metadata": {
        "id": "SUPi1STO-PAC"
      },
      "source": [
        "import numpy as np\r\n",
        "import pandas as pd\r\n",
        "from sklearn.model_selection import train_test_split"
      ],
      "execution_count": 4,
      "outputs": []
    },
    {
      "cell_type": "code",
      "metadata": {
        "id": "Vs-eb4gY-RLA"
      },
      "source": [
        "df = pd.read_csv(\"Data.csv\")"
      ],
      "execution_count": 5,
      "outputs": []
    },
    {
      "cell_type": "code",
      "metadata": {
        "colab": {
          "base_uri": "https://localhost:8080/",
          "height": 141
        },
        "id": "HkkVoDSO-c4v",
        "outputId": "93b14064-840b-4495-98fb-fcc51041fcdc"
      },
      "source": [
        "df.head(3)"
      ],
      "execution_count": 6,
      "outputs": [
        {
          "output_type": "execute_result",
          "data": {
            "text/html": [
              "<div>\n",
              "<style scoped>\n",
              "    .dataframe tbody tr th:only-of-type {\n",
              "        vertical-align: middle;\n",
              "    }\n",
              "\n",
              "    .dataframe tbody tr th {\n",
              "        vertical-align: top;\n",
              "    }\n",
              "\n",
              "    .dataframe thead th {\n",
              "        text-align: right;\n",
              "    }\n",
              "</style>\n",
              "<table border=\"1\" class=\"dataframe\">\n",
              "  <thead>\n",
              "    <tr style=\"text-align: right;\">\n",
              "      <th></th>\n",
              "      <th>TV</th>\n",
              "      <th>radio</th>\n",
              "      <th>newspaper</th>\n",
              "      <th>sales</th>\n",
              "    </tr>\n",
              "  </thead>\n",
              "  <tbody>\n",
              "    <tr>\n",
              "      <th>0</th>\n",
              "      <td>230.10</td>\n",
              "      <td>37.80</td>\n",
              "      <td>69.20</td>\n",
              "      <td>22.10</td>\n",
              "    </tr>\n",
              "    <tr>\n",
              "      <th>1</th>\n",
              "      <td>44.50</td>\n",
              "      <td>39.30</td>\n",
              "      <td>45.10</td>\n",
              "      <td>10.40</td>\n",
              "    </tr>\n",
              "    <tr>\n",
              "      <th>2</th>\n",
              "      <td>17.20</td>\n",
              "      <td>45.90</td>\n",
              "      <td>69.30</td>\n",
              "      <td>9.30</td>\n",
              "    </tr>\n",
              "  </tbody>\n",
              "</table>\n",
              "</div>"
            ],
            "text/plain": [
              "      TV  radio  newspaper  sales\n",
              "0 230.10  37.80      69.20  22.10\n",
              "1  44.50  39.30      45.10  10.40\n",
              "2  17.20  45.90      69.30   9.30"
            ]
          },
          "metadata": {
            "tags": []
          },
          "execution_count": 6
        }
      ]
    },
    {
      "cell_type": "code",
      "metadata": {
        "id": "Aeq2oSnr-d9r"
      },
      "source": [
        "target = \"sales\"\r\n",
        "X = df.loc[:, df.columns != target]\r\n",
        "y = df.loc[:, df.columns == target]"
      ],
      "execution_count": 7,
      "outputs": []
    },
    {
      "cell_type": "code",
      "metadata": {
        "id": "xc0MpM7N-tbf"
      },
      "source": [
        "X_train, X_test, y_train, y_test = train_test_split(X, y, test_size=0.20, \r\n",
        "                                                    random_state=42)"
      ],
      "execution_count": 9,
      "outputs": []
    },
    {
      "cell_type": "code",
      "metadata": {
        "id": "bqI9lK6F-xhD"
      },
      "source": [
        "reg = LazyRegressor(verbose=0,ignore_warnings=False, custom_metric=None )"
      ],
      "execution_count": 10,
      "outputs": []
    },
    {
      "cell_type": "code",
      "metadata": {
        "colab": {
          "base_uri": "https://localhost:8080/"
        },
        "id": "tNpgY52l-zzh",
        "outputId": "b6d54ac9-2204-423a-e01b-f9b8551b3a3f"
      },
      "source": [
        "models,predictions = reg.fit(X_train, X_test, y_train, y_test)"
      ],
      "execution_count": 11,
      "outputs": [
        {
          "output_type": "stream",
          "text": [
            " 97%|█████████▋| 38/39 [00:01<00:00, 19.40it/s]"
          ],
          "name": "stderr"
        },
        {
          "output_type": "stream",
          "text": [
            "StackingRegressor model failed to execute\n",
            "__init__() missing 1 required positional argument: 'estimators'\n",
            "[16:29:47] WARNING: /workspace/src/objective/regression_obj.cu:152: reg:linear is now deprecated in favor of reg:squarederror.\n"
          ],
          "name": "stdout"
        },
        {
          "output_type": "stream",
          "text": [
            "\r100%|██████████| 39/39 [00:01<00:00, 20.91it/s]\n"
          ],
          "name": "stderr"
        }
      ]
    },
    {
      "cell_type": "code",
      "metadata": {
        "colab": {
          "base_uri": "https://localhost:8080/",
          "height": 1000
        },
        "id": "Gta3dVaT-2r3",
        "outputId": "b1e4bd95-bd9f-47cf-842b-21e033c2d1ff"
      },
      "source": [
        "models"
      ],
      "execution_count": 12,
      "outputs": [
        {
          "output_type": "execute_result",
          "data": {
            "text/html": [
              "<div>\n",
              "<style scoped>\n",
              "    .dataframe tbody tr th:only-of-type {\n",
              "        vertical-align: middle;\n",
              "    }\n",
              "\n",
              "    .dataframe tbody tr th {\n",
              "        vertical-align: top;\n",
              "    }\n",
              "\n",
              "    .dataframe thead th {\n",
              "        text-align: right;\n",
              "    }\n",
              "</style>\n",
              "<table border=\"1\" class=\"dataframe\">\n",
              "  <thead>\n",
              "    <tr style=\"text-align: right;\">\n",
              "      <th></th>\n",
              "      <th>R-Squared</th>\n",
              "      <th>RMSE</th>\n",
              "      <th>Time Taken</th>\n",
              "    </tr>\n",
              "    <tr>\n",
              "      <th>Model</th>\n",
              "      <th></th>\n",
              "      <th></th>\n",
              "      <th></th>\n",
              "    </tr>\n",
              "  </thead>\n",
              "  <tbody>\n",
              "    <tr>\n",
              "      <th>ExtraTreesRegressor</th>\n",
              "      <td>0.99</td>\n",
              "      <td>0.61</td>\n",
              "      <td>0.12</td>\n",
              "    </tr>\n",
              "    <tr>\n",
              "      <th>GradientBoostingRegressor</th>\n",
              "      <td>0.98</td>\n",
              "      <td>0.73</td>\n",
              "      <td>0.06</td>\n",
              "    </tr>\n",
              "    <tr>\n",
              "      <th>XGBRegressor</th>\n",
              "      <td>0.98</td>\n",
              "      <td>0.75</td>\n",
              "      <td>0.16</td>\n",
              "    </tr>\n",
              "    <tr>\n",
              "      <th>RandomForestRegressor</th>\n",
              "      <td>0.98</td>\n",
              "      <td>0.77</td>\n",
              "      <td>0.20</td>\n",
              "    </tr>\n",
              "    <tr>\n",
              "      <th>BaggingRegressor</th>\n",
              "      <td>0.98</td>\n",
              "      <td>0.87</td>\n",
              "      <td>0.03</td>\n",
              "    </tr>\n",
              "    <tr>\n",
              "      <th>LGBMRegressor</th>\n",
              "      <td>0.97</td>\n",
              "      <td>0.89</td>\n",
              "      <td>0.05</td>\n",
              "    </tr>\n",
              "    <tr>\n",
              "      <th>HistGradientBoostingRegressor</th>\n",
              "      <td>0.97</td>\n",
              "      <td>0.97</td>\n",
              "      <td>0.11</td>\n",
              "    </tr>\n",
              "    <tr>\n",
              "      <th>AdaBoostRegressor</th>\n",
              "      <td>0.96</td>\n",
              "      <td>1.16</td>\n",
              "      <td>0.12</td>\n",
              "    </tr>\n",
              "    <tr>\n",
              "      <th>ExtraTreeRegressor</th>\n",
              "      <td>0.94</td>\n",
              "      <td>1.37</td>\n",
              "      <td>0.01</td>\n",
              "    </tr>\n",
              "    <tr>\n",
              "      <th>DecisionTreeRegressor</th>\n",
              "      <td>0.93</td>\n",
              "      <td>1.48</td>\n",
              "      <td>0.01</td>\n",
              "    </tr>\n",
              "    <tr>\n",
              "      <th>KNeighborsRegressor</th>\n",
              "      <td>0.93</td>\n",
              "      <td>1.49</td>\n",
              "      <td>0.01</td>\n",
              "    </tr>\n",
              "    <tr>\n",
              "      <th>SVR</th>\n",
              "      <td>0.91</td>\n",
              "      <td>1.69</td>\n",
              "      <td>0.01</td>\n",
              "    </tr>\n",
              "    <tr>\n",
              "      <th>NuSVR</th>\n",
              "      <td>0.91</td>\n",
              "      <td>1.72</td>\n",
              "      <td>0.03</td>\n",
              "    </tr>\n",
              "    <tr>\n",
              "      <th>OrthogonalMatchingPursuitCV</th>\n",
              "      <td>0.90</td>\n",
              "      <td>1.77</td>\n",
              "      <td>0.03</td>\n",
              "    </tr>\n",
              "    <tr>\n",
              "      <th>TransformedTargetRegressor</th>\n",
              "      <td>0.90</td>\n",
              "      <td>1.78</td>\n",
              "      <td>0.01</td>\n",
              "    </tr>\n",
              "    <tr>\n",
              "      <th>Lars</th>\n",
              "      <td>0.90</td>\n",
              "      <td>1.78</td>\n",
              "      <td>0.03</td>\n",
              "    </tr>\n",
              "    <tr>\n",
              "      <th>LinearRegression</th>\n",
              "      <td>0.90</td>\n",
              "      <td>1.78</td>\n",
              "      <td>0.01</td>\n",
              "    </tr>\n",
              "    <tr>\n",
              "      <th>RidgeCV</th>\n",
              "      <td>0.90</td>\n",
              "      <td>1.78</td>\n",
              "      <td>0.01</td>\n",
              "    </tr>\n",
              "    <tr>\n",
              "      <th>BayesianRidge</th>\n",
              "      <td>0.90</td>\n",
              "      <td>1.78</td>\n",
              "      <td>0.05</td>\n",
              "    </tr>\n",
              "    <tr>\n",
              "      <th>SGDRegressor</th>\n",
              "      <td>0.90</td>\n",
              "      <td>1.78</td>\n",
              "      <td>0.01</td>\n",
              "    </tr>\n",
              "    <tr>\n",
              "      <th>LassoCV</th>\n",
              "      <td>0.90</td>\n",
              "      <td>1.78</td>\n",
              "      <td>0.07</td>\n",
              "    </tr>\n",
              "    <tr>\n",
              "      <th>LarsCV</th>\n",
              "      <td>0.90</td>\n",
              "      <td>1.78</td>\n",
              "      <td>0.06</td>\n",
              "    </tr>\n",
              "    <tr>\n",
              "      <th>LassoLarsCV</th>\n",
              "      <td>0.90</td>\n",
              "      <td>1.78</td>\n",
              "      <td>0.02</td>\n",
              "    </tr>\n",
              "    <tr>\n",
              "      <th>LassoLarsIC</th>\n",
              "      <td>0.90</td>\n",
              "      <td>1.79</td>\n",
              "      <td>0.01</td>\n",
              "    </tr>\n",
              "    <tr>\n",
              "      <th>Ridge</th>\n",
              "      <td>0.90</td>\n",
              "      <td>1.79</td>\n",
              "      <td>0.01</td>\n",
              "    </tr>\n",
              "    <tr>\n",
              "      <th>ElasticNetCV</th>\n",
              "      <td>0.90</td>\n",
              "      <td>1.79</td>\n",
              "      <td>0.05</td>\n",
              "    </tr>\n",
              "    <tr>\n",
              "      <th>LinearSVR</th>\n",
              "      <td>0.89</td>\n",
              "      <td>1.85</td>\n",
              "      <td>0.01</td>\n",
              "    </tr>\n",
              "    <tr>\n",
              "      <th>HuberRegressor</th>\n",
              "      <td>0.89</td>\n",
              "      <td>1.89</td>\n",
              "      <td>0.02</td>\n",
              "    </tr>\n",
              "    <tr>\n",
              "      <th>PassiveAggressiveRegressor</th>\n",
              "      <td>0.85</td>\n",
              "      <td>2.15</td>\n",
              "      <td>0.02</td>\n",
              "    </tr>\n",
              "    <tr>\n",
              "      <th>RANSACRegressor</th>\n",
              "      <td>0.85</td>\n",
              "      <td>2.17</td>\n",
              "      <td>0.02</td>\n",
              "    </tr>\n",
              "    <tr>\n",
              "      <th>Lasso</th>\n",
              "      <td>0.82</td>\n",
              "      <td>2.40</td>\n",
              "      <td>0.02</td>\n",
              "    </tr>\n",
              "    <tr>\n",
              "      <th>ElasticNet</th>\n",
              "      <td>0.73</td>\n",
              "      <td>2.94</td>\n",
              "      <td>0.02</td>\n",
              "    </tr>\n",
              "    <tr>\n",
              "      <th>OrthogonalMatchingPursuit</th>\n",
              "      <td>0.68</td>\n",
              "      <td>3.19</td>\n",
              "      <td>0.02</td>\n",
              "    </tr>\n",
              "    <tr>\n",
              "      <th>DummyRegressor</th>\n",
              "      <td>-0.00</td>\n",
              "      <td>5.63</td>\n",
              "      <td>0.01</td>\n",
              "    </tr>\n",
              "    <tr>\n",
              "      <th>LassoLars</th>\n",
              "      <td>-0.00</td>\n",
              "      <td>5.63</td>\n",
              "      <td>0.01</td>\n",
              "    </tr>\n",
              "    <tr>\n",
              "      <th>MLPRegressor</th>\n",
              "      <td>-0.20</td>\n",
              "      <td>6.17</td>\n",
              "      <td>0.34</td>\n",
              "    </tr>\n",
              "    <tr>\n",
              "      <th>GaussianProcessRegressor</th>\n",
              "      <td>-1.03</td>\n",
              "      <td>8.01</td>\n",
              "      <td>0.02</td>\n",
              "    </tr>\n",
              "    <tr>\n",
              "      <th>KernelRidge</th>\n",
              "      <td>-5.31</td>\n",
              "      <td>14.11</td>\n",
              "      <td>0.02</td>\n",
              "    </tr>\n",
              "  </tbody>\n",
              "</table>\n",
              "</div>"
            ],
            "text/plain": [
              "                               R-Squared  RMSE  Time Taken\n",
              "Model                                                     \n",
              "ExtraTreesRegressor                 0.99  0.61        0.12\n",
              "GradientBoostingRegressor           0.98  0.73        0.06\n",
              "XGBRegressor                        0.98  0.75        0.16\n",
              "RandomForestRegressor               0.98  0.77        0.20\n",
              "BaggingRegressor                    0.98  0.87        0.03\n",
              "LGBMRegressor                       0.97  0.89        0.05\n",
              "HistGradientBoostingRegressor       0.97  0.97        0.11\n",
              "AdaBoostRegressor                   0.96  1.16        0.12\n",
              "ExtraTreeRegressor                  0.94  1.37        0.01\n",
              "DecisionTreeRegressor               0.93  1.48        0.01\n",
              "KNeighborsRegressor                 0.93  1.49        0.01\n",
              "SVR                                 0.91  1.69        0.01\n",
              "NuSVR                               0.91  1.72        0.03\n",
              "OrthogonalMatchingPursuitCV         0.90  1.77        0.03\n",
              "TransformedTargetRegressor          0.90  1.78        0.01\n",
              "Lars                                0.90  1.78        0.03\n",
              "LinearRegression                    0.90  1.78        0.01\n",
              "RidgeCV                             0.90  1.78        0.01\n",
              "BayesianRidge                       0.90  1.78        0.05\n",
              "SGDRegressor                        0.90  1.78        0.01\n",
              "LassoCV                             0.90  1.78        0.07\n",
              "LarsCV                              0.90  1.78        0.06\n",
              "LassoLarsCV                         0.90  1.78        0.02\n",
              "LassoLarsIC                         0.90  1.79        0.01\n",
              "Ridge                               0.90  1.79        0.01\n",
              "ElasticNetCV                        0.90  1.79        0.05\n",
              "LinearSVR                           0.89  1.85        0.01\n",
              "HuberRegressor                      0.89  1.89        0.02\n",
              "PassiveAggressiveRegressor          0.85  2.15        0.02\n",
              "RANSACRegressor                     0.85  2.17        0.02\n",
              "Lasso                               0.82  2.40        0.02\n",
              "ElasticNet                          0.73  2.94        0.02\n",
              "OrthogonalMatchingPursuit           0.68  3.19        0.02\n",
              "DummyRegressor                     -0.00  5.63        0.01\n",
              "LassoLars                          -0.00  5.63        0.01\n",
              "MLPRegressor                       -0.20  6.17        0.34\n",
              "GaussianProcessRegressor           -1.03  8.01        0.02\n",
              "KernelRidge                        -5.31 14.11        0.02"
            ]
          },
          "metadata": {
            "tags": []
          },
          "execution_count": 12
        }
      ]
    }
  ]
}